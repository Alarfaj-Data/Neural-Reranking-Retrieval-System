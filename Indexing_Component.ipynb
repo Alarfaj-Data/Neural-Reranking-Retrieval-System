{
 "cells": [
  {
   "cell_type": "code",
   "execution_count": null,
   "metadata": {
    "id": "-9aKPPj2XND6"
   },
   "outputs": [],
   "source": [
    "# Install required package\n",
    "%pip install python-terrier\n",
    "\n",
    "# Standard library imports\n",
    "import os\n",
    "\n",
    "# Third-party imports\n",
    "import pandas as pd\n",
    "import numpy as np\n",
    "from google.colab import drive\n",
    "import pyterrier as pt\n",
    "\n",
    "# Initialize PyTerrier\n",
    "pt.init()\n",
    "\n",
    "# Mount Google Drive\n",
    "drive.mount('/content/drive')\n",
    "\n",
    "# Configuration\n",
    "data_dir = '/content/drive/MyDrive/MSMARCO/'\n",
    "index_path = \"/content/drive/MyDrive/Index\"\n",
    "passage_index_path = \"/content/drive/MyDrive/Passage_Index\""
   ]
  },
  {
   "cell_type": "code",
   "execution_count": null,
   "metadata": {
    "id": "epmkWNifeJJX"
   },
   "outputs": [],
   "source": [
    "# Load collections\n",
    "collection_path = os.path.join(data_dir, 'collection.tsv')\n",
    "collection = pd.read_csv(collection_path, header=0, sep=\"\\t\", names=['docno', 'url', 'title', 'text'])\n",
    "\n",
    "passage_collection_path = os.path.join(data_dir, 'passage_collection.csv')\n",
    "passage_collection = pd.read_csv(passage_collection_path, header=0, names=['docno', 'text'])"
   ]
  },
  {
   "cell_type": "code",
   "execution_count": null,
   "metadata": {
    "id": "7TXx9_S3fZX5"
   },
   "outputs": [],
   "source": [
    "# Initialize indexers\n",
    "indexer = pt.IterDictIndexer(index_path, verbose=True, overwrite=True)\n",
    "passage_indexer = pt.IterDictIndexer(passage_index_path, verbose=True, overwrite=True)"
   ]
  },
  {
   "cell_type": "code",
   "execution_count": null,
   "metadata": {
    "colab": {
     "base_uri": "https://localhost:8080/"
    },
    "id": "wBKXVGzcUxVU",
    "outputId": "31889ab9-2805-4d81-f7e3-d652c397169b"
   },
   "outputs": [],
   "source": [
    "# Indexing\n",
    "indexref = indexer.index(collection.to_dict(orient=\"records\"))\n",
    "passage_indexref = passage_indexer.index(passage_collection.to_dict(orient=\"records\"))"
   ]
  }
 ],
 "metadata": {
  "colab": {
   "collapsed_sections": [],
   "machine_shape": "hm",
   "name": "Indexing Component.ipynb",
   "provenance": []
  },
  "gpuClass": "standard",
  "kernelspec": {
   "display_name": "Python 3 (ipykernel)",
   "language": "python",
   "name": "python3"
  },
  "language_info": {
   "codemirror_mode": {
    "name": "ipython",
    "version": 3
   },
   "file_extension": ".py",
   "mimetype": "text/x-python",
   "name": "python",
   "nbconvert_exporter": "python",
   "pygments_lexer": "ipython3",
   "version": "3.9.12"
  }
 },
 "nbformat": 4,
 "nbformat_minor": 1
}
