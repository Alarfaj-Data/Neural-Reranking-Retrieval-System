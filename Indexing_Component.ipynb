{
 "cells": [
  {
   "cell_type": "code",
   "execution_count": null,
   "metadata": {
    "id": "-9aKPPj2XND6"
   },
   "outputs": [],
   "source": [
    "%pip install python-terrier\n",
    "import pandas as pd\n",
    "import os\n",
    "import numpy as np\n",
    "from google.colab import drive\n",
    "import pyterrier as pt\n",
    "pt.init()\n",
    "drive.mount('/content/drive')\n",
    "data_dir = '/content/drive/MyDrive/MSMARCO/'"
   ]
  },
  {
   "cell_type": "code",
   "execution_count": null,
   "metadata": {
    "id": "epmkWNifeJJX"
   },
   "outputs": [],
   "source": [
    "collection = pd.read_csv(os.path.join(data_dir, 'collection.tsv'), header=0, sep=\"\\t\" , names=['docno', 'url', 'title', 'text']) # Loading collection file\n",
    "passage_collection = pd.read_csv(os.path.join(data_dir, 'passage_collection.csv'), header=0, names=['docno', 'text']) # Loading passage collection file"
   ]
  },
  {
   "cell_type": "code",
   "execution_count": null,
   "metadata": {
    "id": "7TXx9_S3fZX5"
   },
   "outputs": [],
   "source": [
    "index_path = \"/content/drive/MyDrive/Index\"\n",
    "passage_index_path = \"/content/drive/MyDrive/Passage_Index\"\n",
    "indexer = pt.IterDictIndexer(Index_Path, verbose=True, overwrite=True) #Replace path with index location \n",
    "passage_indexer = pt.IterDictIndexer(passage_index_path, verbose=True, overwrite=True) #Replace path with index location"
   ]
  },
  {
   "cell_type": "code",
   "execution_count": null,
   "metadata": {
    "colab": {
     "base_uri": "https://localhost:8080/"
    },
    "id": "wBKXVGzcUxVU",
    "outputId": "31889ab9-2805-4d81-f7e3-d652c397169b"
   },
   "outputs": [],
   "source": [
    "indexref = indexer.index(collection.to_dict(orient=\"records\")) # indexing\n",
    "passage_indexref = passage_indexer.index(passage_collection.to_dict(orient=\"records\")) #indexing"
   ]
  }
 ],
 "metadata": {
  "colab": {
   "collapsed_sections": [],
   "machine_shape": "hm",
   "name": "Indexing Component.ipynb",
   "provenance": []
  },
  "gpuClass": "standard",
  "kernelspec": {
   "display_name": "Python 3 (ipykernel)",
   "language": "python",
   "name": "python3"
  },
  "language_info": {
   "codemirror_mode": {
    "name": "ipython",
    "version": 3
   },
   "file_extension": ".py",
   "mimetype": "text/x-python",
   "name": "python",
   "nbconvert_exporter": "python",
   "pygments_lexer": "ipython3",
   "version": "3.9.12"
  }
 },
 "nbformat": 4,
 "nbformat_minor": 1
}
